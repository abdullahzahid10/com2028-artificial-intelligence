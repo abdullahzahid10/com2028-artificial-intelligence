{
  "cells": [
    {
      "cell_type": "markdown",
      "metadata": {
        "id": "BzFPlLB9a9Q0"
      },
      "source": [
        "Importing all neccessary Libraries"
      ]
    },
    {
      "cell_type": "code",
      "execution_count": null,
      "metadata": {
        "id": "jlQS6kCkbDea"
      },
      "outputs": [],
      "source": [
        "import pandas as pd\n",
        "import numpy as np\n",
        "import seaborn as sns;sns.set(style=\"white\")\n",
        "import matplotlib.pyplot as plt\n",
        "%matplotlib inline\n",
        "import os\n",
        "import cv2\n",
        "import random\n",
        "from PIL import Image\n",
        "from sklearn import preprocessing\n",
        "from sklearn.model_selection import train_test_split\n",
        "from sklearn.metrics import classification_report, confusion_matrix, accuracy_score\n",
        "\n",
        "import keras\n",
        "from keras.models import Sequential\n",
        "\n",
        "from keras.layers import Convolution2D,MaxPooling2D,Dropout,Dense,Flatten,BatchNormalization,Conv2D\n",
        "from keras.callbacks import EarlyStopping, ModelCheckpoint\n",
        "from sklearn import preprocessing\n",
        "from keras.utils import np_utils\n",
        "\n",
        "\n",
        "import warnings\n",
        "warnings.simplefilter(\"ignore\")"
      ]
    },
    {
      "cell_type": "markdown",
      "metadata": {
        "id": "pvQyAibgbL8c"
      },
      "source": [
        "Loading Dataset"
      ]
    },
    {
      "cell_type": "code",
      "execution_count": null,
      "metadata": {
        "id": "ZCQksqdqbNAJ"
      },
      "outputs": [],
      "source": [
        "import os\n",
        "os.environ['KAGGLE_USERNAME'] = ''  # Your Kaggle username\n",
        "os.environ['KAGGLE_KEY'] = ''  # Your Kaggle API key\n",
        "os.environ['URN'] = ''  # Your URN: submissions without a URN will not count"
      ]
    },
    {
      "cell_type": "code",
      "execution_count": null,
      "metadata": {
        "id": "3bF7Q_Ypb-bO"
      },
      "outputs": [],
      "source": [
        "!python3 /usr/local/bin/kaggle -v\n",
        "!python3 -m pip show kaggle"
      ]
    },
    {
      "cell_type": "code",
      "execution_count": null,
      "metadata": {
        "id": "e1FHV3WGcCQH"
      },
      "outputs": [],
      "source": [
        "!python3 /usr/local/bin/kaggle competitions download -c uos-com2028-21-22-cw\n",
        "!unzip uos-com2028-21-22-cw.zip"
      ]
    },
    {
      "cell_type": "code",
      "execution_count": null,
      "metadata": {
        "id": "JKqV9YDdciKl"
      },
      "outputs": [],
      "source": [
        "df=pd.read_csv(\"train.csv\")\n",
        "df[\"ID\"] = [\"0\"* (6-len(str(i))) + str(i) if len(str(i)) < 6 else i for i in df[\"Id\"]]\n",
        "df.head()"
      ]
    },
    {
      "cell_type": "code",
      "execution_count": null,
      "metadata": {
        "colab": {
          "background_save": true
        },
        "id": "u_l2pYMNckm6"
      },
      "outputs": [],
      "source": [
        "df[\"Cell type\"].value_counts()"
      ]
    },
    {
      "cell_type": "code",
      "execution_count": null,
      "metadata": {
        "colab": {
          "background_save": true
        },
        "id": "16WBe6hjc90O"
      },
      "outputs": [],
      "source": [
        "fig, ax1 = plt.subplots(1, 1, figsize= (20, 5))\n",
        "sns.countplot(x = 'Cell type' , data = df, order = df['Cell type'].value_counts().index, palette=\"tab10\")"
      ]
    },
    {
      "cell_type": "markdown",
      "metadata": {
        "id": "tP59lWL7dFD2"
      },
      "source": [
        "Preprocessing"
      ]
    },
    {
      "cell_type": "code",
      "execution_count": null,
      "metadata": {
        "colab": {
          "background_save": true
        },
        "id": "ZvcYea4PdGpU"
      },
      "outputs": [],
      "source": [
        "data=[]\n",
        "labels=[] \n",
        "\n",
        "for i in os.listdir(\"train/\"):\n",
        "  try:\n",
        "    image = cv2.imread(\"train/\"+i)\n",
        "    image_array = Image.fromarray(image , 'RGB')\n",
        "    resize_img = image_array.resize((50 , 50))\n",
        "    dx = df.loc[df[\"ID\"]==i.split(\".\")[0], \"Cell type\"].values[0]\n",
        "    data.append(np.array(resize_img))\n",
        "    labels.append(dx)\n",
        "        \n",
        "  except:\n",
        "    pass\n",
        "\n",
        "\n",
        "data = np.array(data)\n",
        "labels = np.array(labels)\n",
        "\n",
        "print('Data : {} | labels : {}'.format(data.shape , len(labels)))"
      ]
    },
    {
      "cell_type": "code",
      "execution_count": null,
      "metadata": {
        "colab": {
          "background_save": true
        },
        "id": "s_8ATMIJjvKg"
      },
      "outputs": [],
      "source": [
        "np.save('data' , data)\n",
        "np.save('labels' , labels)"
      ]
    },
    {
      "cell_type": "code",
      "execution_count": null,
      "metadata": {
        "colab": {
          "background_save": true
        },
        "id": "tte5Pq_mjzX9"
      },
      "outputs": [],
      "source": [
        "uni_labels = df[\"Cell type\"].unique().tolist()\n",
        "\n",
        "for uni in uni_labels:\n",
        "  ls=[]\n",
        "  for label in range(len(labels)):\n",
        "    if labels[label] == uni:\n",
        "      ls.append(label)\n",
        "  ls =  random.choices(population=ls, k=5)\n",
        "\n",
        "  plt.figure(figsize=(15,5))\n",
        "  for i in range(1,6):\n",
        "    plt.subplot(1,5,i)\n",
        "    plt.imshow(data[ls[i-1]])\n",
        "    plt.title(\"Class: \"+str(uni))\n",
        "    plt.xticks([])\n",
        "    plt.yticks([])"
      ]
    },
    {
      "cell_type": "markdown",
      "metadata": {
        "id": "_xNCoWQuj-Wu"
      },
      "source": [
        "Train Test Split"
      ]
    },
    {
      "cell_type": "code",
      "execution_count": null,
      "metadata": {
        "colab": {
          "background_save": true
        },
        "id": "gxHUclaLkAcJ"
      },
      "outputs": [],
      "source": [
        "train_x , test_x , train_y , test_y = train_test_split(data , labels , test_size = 0.3, stratify = labels)"
      ]
    },
    {
      "cell_type": "code",
      "execution_count": null,
      "metadata": {
        "colab": {
          "background_save": true
        },
        "id": "M3qyKKb7kGT1"
      },
      "outputs": [],
      "source": [
        "plt.figure(1 , figsize = (20 ,5))\n",
        "n = 0 \n",
        "for z , j in zip([train_y , test_y] , ['train labels', 'test labels']):\n",
        "  n += 1\n",
        "  plt.subplot(1 , 3  , n)\n",
        "  sns.countplot(x = z )\n",
        "  plt.title(j)\n",
        "plt.show()\n",
        "\n",
        "\n",
        "train_y=np_utils.to_categorical(train_y,num_classes=8)\n",
        "test_y=np_utils.to_categorical(test_y,num_classes=8)\n",
        "\n",
        "print(\"Y train shape\",train_y.shape)"
      ]
    },
    {
      "cell_type": "markdown",
      "metadata": {
        "id": "FnsiuoLhkO-_"
      },
      "source": [
        "CNN"
      ]
    },
    {
      "cell_type": "code",
      "execution_count": null,
      "metadata": {
        "colab": {
          "background_save": true
        },
        "id": "DdwfYSndkPtl"
      },
      "outputs": [],
      "source": [
        "keras.backend.clear_session()\n",
        "\n",
        "cnn = Sequential()\n",
        "cnn.add(Convolution2D(32,(3,3),activation='relu',input_shape = (50, 50, 3)))\n",
        "cnn.add(BatchNormalization())\n",
        "cnn.add(MaxPooling2D(2,2))\n",
        "cnn.add(Dropout(0.2))\n",
        "cnn.add(Convolution2D(32,(3,3),activation='relu'))\n",
        "cnn.add(BatchNormalization())\n",
        "cnn.add(MaxPooling2D(2,2))\n",
        "cnn.add(Dropout(0.2))\n",
        "cnn.add(Convolution2D(64,(3,3),activation='relu'))\n",
        "cnn.add(BatchNormalization())\n",
        "cnn.add(MaxPooling2D(2,2))\n",
        "cnn.add(Dropout(0.2))\n",
        "cnn.add(Flatten())\n",
        "cnn.add(Dense(64,activation='relu'))\n",
        "cnn.add(Dropout(0.2))\n",
        "cnn.add(Dense(8,activation='softmax'))\n",
        "cnn.compile(optimizer='adam',loss='categorical_crossentropy',metrics=['accuracy'])"
      ]
    },
    {
      "cell_type": "code",
      "execution_count": null,
      "metadata": {
        "colab": {
          "background_save": true
        },
        "id": "bUntcZ85kTtx"
      },
      "outputs": [],
      "source": [
        "cnn.summary()"
      ]
    },
    {
      "cell_type": "code",
      "execution_count": null,
      "metadata": {
        "colab": {
          "background_save": true
        },
        "id": "u6Igu8GjkWAd"
      },
      "outputs": [],
      "source": [
        "%%time\n",
        "early_stopping_monitor = EarlyStopping(patience = 3) \n",
        "nn = cnn.fit(train_x, train_y, epochs = 10, validation_split = 0.2, callbacks = [early_stopping_monitor])"
      ]
    },
    {
      "cell_type": "code",
      "execution_count": null,
      "metadata": {
        "colab": {
          "background_save": true
        },
        "id": "cTdEkQ-O7_jb"
      },
      "outputs": [],
      "source": [
        "values  = nn.history\n",
        "validation_loss = values['val_loss']\n",
        "validation_acc = values['val_accuracy']\n",
        "training_acc = values['accuracy']\n",
        "training_loss = values['loss']\n",
        "epochs = range(1, len(training_acc) + 1)"
      ]
    },
    {
      "cell_type": "code",
      "execution_count": null,
      "metadata": {
        "id": "U7hbWU1Z8GcU"
      },
      "outputs": [],
      "source": [
        "fig, ax = plt.subplots()\n",
        "fig.set_size_inches(20, 5)\n",
        "plt.plot(epochs,training_loss,label = 'Training Loss')\n",
        "plt.plot(epochs,validation_loss,label = 'Validation Loss')\n",
        "plt.title('Epochs vs Loss')\n",
        "plt.xlabel('Epochs')\n",
        "plt.xticks(epochs)\n",
        "plt.ylabel('Loss')\n",
        "plt.legend()\n",
        "plt.show()"
      ]
    },
    {
      "cell_type": "code",
      "execution_count": null,
      "metadata": {
        "id": "QbYVde9p8LSC"
      },
      "outputs": [],
      "source": [
        "fig, ax = plt.subplots()\n",
        "fig.set_size_inches(20, 5)\n",
        "plt.plot(epochs,training_acc,label = 'Training Accuracy')\n",
        "plt.plot(epochs,validation_acc,label = 'Validation Accuracy')\n",
        "plt.title('Epochs vs Accuracy')\n",
        "plt.xlabel('Epochs')\n",
        "plt.xticks(epochs)\n",
        "plt.ylabel('Accuracy')\n",
        "plt.legend()\n",
        "plt.show()"
      ]
    },
    {
      "cell_type": "code",
      "execution_count": null,
      "metadata": {
        "id": "-7UmpDnr8O2B"
      },
      "outputs": [],
      "source": [
        "predictions= cnn.predict(test_x).round(0)\n",
        "loss1, test_acc = cnn.evaluate(test_x, test_y)\n",
        "test_acc = test_acc*100\n",
        "\n",
        "loss2, train_acc = cnn.evaluate(train_x, train_y)\n",
        "train_acc = train_acc*100\n",
        "\n",
        "print('Test Loss score:', loss1)\n",
        "print('Test accuracy:', test_acc)\n",
        "\n",
        "print('Train Loss score:', loss2)\n",
        "print('Train accuracy:', train_acc)\n",
        "\n",
        "target = [0,1,2,3,4,5,6,7]\n",
        "print(\"Classification Report: \\n\",classification_report(test_y, predictions)) \n",
        "print()\n",
        "print(\"Confusion Matrix:\")\n",
        "cm = confusion_matrix(np.argmax(test_y, axis=1), np.argmax(predictions, axis=1))\n",
        "cm =pd.DataFrame(cm, index=target, columns=target)\n",
        "cm"
      ]
    },
    {
      "cell_type": "code",
      "execution_count": null,
      "metadata": {
        "id": "6eDg7J1L9VhZ"
      },
      "outputs": [],
      "source": [
        "from sklearn.preprocessing import LabelBinarizer\n",
        "from sklearn.metrics import roc_curve, auc, roc_auc_score\n",
        "ypred = cnn.predict(test_x)\n",
        "ypred = ypred.argmax(axis=-1)\n",
        "\n",
        "# set plot figure size\n",
        "fig, c_ax = plt.subplots( )\n",
        "fig.set_size_inches(20, 8)\n",
        "plt.xlim((0,1))\n",
        "plt.ylim((0,1))\n",
        "\n",
        "# function for scoring roc auc score for multi-class\n",
        "def multiclass_roc_auc_score(y_test, y_pred, average=\"macro\"):\n",
        "    lb = LabelBinarizer()\n",
        "    lb.fit(test_y)\n",
        "    y_test = lb.transform(test_y)\n",
        "    y_pred = lb.transform(predictions)\n",
        "\n",
        "    for (idx, c_label) in enumerate(target):\n",
        "        fpr, tpr, thresholds = roc_curve(y_test[:,idx].astype(int), y_pred[:,idx])\n",
        "        c_ax.plot(fpr, tpr, label = '%s (AUC:%0.2f)'  % (c_label, auc(fpr, tpr)))\n",
        "   \n",
        "    return roc_auc_score(test_y, y_pred, average=average)\n",
        "\n",
        "\n",
        "print('ROC AUC score:', multiclass_roc_auc_score(train_y, predictions))\n",
        "plt.grid()\n",
        "plt.plot([0, 1], [0, 1], 'k--')\n",
        "c_ax.legend()\n",
        "c_ax.set_xlabel('False Positive Rate')\n",
        "c_ax.set_ylabel('True Positive Rate')\n",
        "plt.show()\n",
        "# visualizer.show() "
      ]
    },
    {
      "cell_type": "markdown",
      "metadata": {
        "id": "mUZjgpmD9vyZ"
      },
      "source": [
        "Resnet50"
      ]
    },
    {
      "cell_type": "code",
      "execution_count": null,
      "metadata": {
        "id": "8q2dZaHm9w8U"
      },
      "outputs": [],
      "source": [
        "from tensorflow.keras.applications import ResNet50\n",
        "\n",
        "resnet = ResNet50(weights=\"imagenet\",include_top = False,input_shape=(50,50,3))\n",
        "\n",
        "for layer in resnet.layers:\n",
        "  layer.trainable = False"
      ]
    },
    {
      "cell_type": "code",
      "execution_count": null,
      "metadata": {
        "colab": {
          "background_save": true
        },
        "id": "czAjknXX93sn"
      },
      "outputs": [],
      "source": [
        "resnet50 = Sequential()\n",
        "resnet50.add(resnet)\n",
        "resnet50.add(Flatten())\n",
        "resnet50.add(Dense(8,activation=\"softmax\"))\n",
        "resnet50.compile(optimizer=\"adam\",loss=\"categorical_crossentropy\",metrics=[\"accuracy\"])"
      ]
    },
    {
      "cell_type": "code",
      "execution_count": null,
      "metadata": {
        "colab": {
          "background_save": true
        },
        "id": "SG3NpqTw97ww"
      },
      "outputs": [],
      "source": [
        "%%time\n",
        "\n",
        "checkpoint = ModelCheckpoint(\"resnet50.h5\", monitor=\"val_accuracy\", verbose=1, save_best_only=True, save_weights_only=False, period=1)\n",
        "\n",
        "earlystop = EarlyStopping(monitor=\"val_accuracy\",patience=5,verbose=1)\n",
        "\n",
        "history = resnet50.fit(train_x,train_y,batch_size=32,epochs=10, validation_data=(test_x,test_y), verbose=1, callbacks=[checkpoint,earlystop])"
      ]
    },
    {
      "cell_type": "code",
      "execution_count": null,
      "metadata": {
        "colab": {
          "background_save": true
        },
        "id": "1oQ_utU1TAYI"
      },
      "outputs": [],
      "source": [
        "values  = history.history\n",
        "validation_loss = values['val_loss']\n",
        "validation_acc = values['val_accuracy']\n",
        "training_acc = values['accuracy']\n",
        "training_loss = values['loss']\n",
        "epochs = range(1, len(training_acc) + 1)"
      ]
    },
    {
      "cell_type": "code",
      "execution_count": null,
      "metadata": {
        "colab": {
          "background_save": true
        },
        "id": "Dd-5xSrpTC8H"
      },
      "outputs": [],
      "source": [
        "# visualization of overall model performance \n",
        "\n",
        "plt.figure(1 , figsize = (20 ,5))\n",
        "plt.plot(epochs,training_loss,label = 'Training Loss')\n",
        "plt.plot(epochs,validation_loss,label = 'Validation Loss')\n",
        "plt.title('Epochs vs Loss')\n",
        "plt.xlabel('Epochs')\n",
        "plt.xticks(epochs)\n",
        "plt.ylabel('Loss')\n",
        "plt.legend()\n",
        "plt.show()"
      ]
    },
    {
      "cell_type": "code",
      "execution_count": null,
      "metadata": {
        "colab": {
          "background_save": true
        },
        "id": "SJiKaGVCTFKH"
      },
      "outputs": [],
      "source": [
        "# visualization of overall model performance \n",
        "\n",
        "plt.figure(1 , figsize = (20 ,5))\n",
        "plt.plot(epochs,training_acc,label = 'Training Accuracy')\n",
        "plt.plot(epochs,validation_acc,label = 'Validation Accuracy')\n",
        "plt.title('Epochs vs Accuracy')\n",
        "plt.xlabel('Epochs')\n",
        "plt.xticks(epochs)\n",
        "plt.ylabel('Accuracy')\n",
        "plt.legend()\n",
        "plt.show()"
      ]
    },
    {
      "cell_type": "code",
      "execution_count": null,
      "metadata": {
        "colab": {
          "background_save": true
        },
        "id": "tfQkVLxYTJ4o"
      },
      "outputs": [],
      "source": [
        "predictions= resnet50.predict(test_x).round(0)\n",
        "loss1, test_acc = resnet50.evaluate(test_x, test_y)\n",
        "test_acc = test_acc*100\n",
        "\n",
        "loss2, train_acc = resnet50.evaluate(train_x, train_y)\n",
        "train_acc = train_acc*100\n",
        "\n",
        "print('Test Loss score:', loss1)\n",
        "print('Test accuracy:', test_acc)\n",
        "\n",
        "print('Train Loss score:', loss2)\n",
        "print('Train accuracy:', train_acc)\n",
        "\n",
        "print(\"Classification Report: \\n\",classification_report(test_y, predictions)) \n",
        "print()\n",
        "print(\"Confusion Matrix:\")\n",
        "cm = confusion_matrix(np.argmax(test_y, axis=1), np.argmax(predictions, axis=1))\n",
        "cm =pd.DataFrame(cm, index=target, columns=target)\n",
        "cm"
      ]
    },
    {
      "cell_type": "code",
      "execution_count": null,
      "metadata": {
        "colab": {
          "background_save": true
        },
        "id": "1wOiACzZTLHS"
      },
      "outputs": [],
      "source": [
        "ypred = resnet50.predict(test_x)\n",
        "ypred = ypred.argmax(axis=-1)\n",
        "\n",
        "# set plot figure size\n",
        "fig, c_ax = plt.subplots( )\n",
        "fig.set_size_inches(20, 8)\n",
        "plt.xlim((0,1))\n",
        "plt.ylim((0,1))\n",
        "\n",
        "# function for scoring roc auc score for multi-class\n",
        "def multiclass_roc_auc_score(y_test, y_pred, average=\"macro\"):\n",
        "    lb = LabelBinarizer()\n",
        "    lb.fit(test_y)\n",
        "    y_test = lb.transform(test_y)\n",
        "    y_pred = lb.transform(predictions)\n",
        "\n",
        "    for (idx, c_label) in enumerate(target):\n",
        "        fpr, tpr, thresholds = roc_curve(y_test[:,idx].astype(int), y_pred[:,idx])\n",
        "        c_ax.plot(fpr, tpr, label = '%s (AUC:%0.2f)'  % (c_label, auc(fpr, tpr)))\n",
        "   \n",
        "    return roc_auc_score(test_y, y_pred, average=average)\n",
        "\n",
        "\n",
        "print('ROC AUC score:', multiclass_roc_auc_score(train_y, predictions))\n",
        "plt.grid()\n",
        "plt.plot([0, 1], [0, 1], 'k--')\n",
        "c_ax.legend()\n",
        "c_ax.set_xlabel('False Positive Rate')\n",
        "c_ax.set_ylabel('True Positive Rate')\n",
        "plt.show()"
      ]
    },
    {
      "cell_type": "markdown",
      "metadata": {
        "id": "Dr3XNXWoTS76"
      },
      "source": [
        "Testing Prediction"
      ]
    },
    {
      "cell_type": "code",
      "execution_count": null,
      "metadata": {
        "colab": {
          "background_save": true
        },
        "id": "hAFKn6bCTVhy"
      },
      "outputs": [],
      "source": [
        "test_data=[]\n",
        "\n",
        "for i in os.listdir(\"test/\"):\n",
        "  try:\n",
        "    image = cv2.imread(\"test/\"+i)\n",
        "    image_array = Image.fromarray(image , 'RGB')\n",
        "    resize_img = image_array.resize((50 , 50))\n",
        "    test_data.append(np.array(resize_img))     \n",
        "  except:\n",
        "    pass\n",
        "\n",
        "test_data = np.array(test_data)\n",
        "predictions= cnn.predict(test_data).round(0)"
      ]
    },
    {
      "cell_type": "code",
      "execution_count": null,
      "metadata": {
        "colab": {
          "background_save": true
        },
        "id": "7_eWTkJwTYph"
      },
      "outputs": [],
      "source": [
        "predictions= predictions.argmax(axis=1)"
      ]
    },
    {
      "cell_type": "code",
      "execution_count": null,
      "metadata": {
        "colab": {
          "background_save": true
        },
        "id": "fIMEtoy9TaeR"
      },
      "outputs": [],
      "source": [
        "print(len(predictions))\n",
        "print(len(os.listdir(\"test/\")))\n",
        "print(test_data.shape)"
      ]
    },
    {
      "cell_type": "code",
      "execution_count": null,
      "metadata": {
        "colab": {
          "background_save": true
        },
        "id": "pz6t1YOjTb5S"
      },
      "outputs": [],
      "source": [
        "id_map = [filename[:5] for filename in os.listdir(\"test/\")]\n",
        "prediction_df = pd.DataFrame({\"Id\": id_map, \"Cell type\":predictions})\n",
        "prediction_df.head()"
      ]
    },
    {
      "cell_type": "code",
      "execution_count": null,
      "metadata": {
        "colab": {
          "background_save": true
        },
        "id": "eXbcGmVPTddR"
      },
      "outputs": [],
      "source": [
        "prediction_df[\"Cell type\"].value_counts()"
      ]
    },
    {
      "cell_type": "code",
      "execution_count": null,
      "metadata": {
        "colab": {
          "background_save": true
        },
        "id": "kdAMp6XRTfTk"
      },
      "outputs": [],
      "source": [
        "prediction_df.to_csv(\"prediction.csv\", index=False)"
      ]
    },
    {
      "cell_type": "code",
      "execution_count": null,
      "metadata": {
        "colab": {
          "background_save": true
        },
        "id": "lNj9NyHwLxIH"
      },
      "outputs": [],
      "source": [
        "!python3 /usr/local/bin/kaggle competitions submit -m $URN -c uos-com2028-21-22-cw -f prediction.csv"
      ]
    }
  ],
  "metadata": {
    "colab": {
      "collapsed_sections": [],
      "name": "coursework6636272AI.ipynb",
      "provenance": []
    },
    "kernelspec": {
      "display_name": "Python 3",
      "name": "python3"
    },
    "language_info": {
      "name": "python"
    }
  },
  "nbformat": 4,
  "nbformat_minor": 0
}
